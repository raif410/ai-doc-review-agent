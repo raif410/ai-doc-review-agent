{
 "cells": [
  {
   "cell_type": "code",
   "execution_count": null,
   "id": "0657d2fb",
   "metadata": {
    "vscode": {
     "languageId": "plaintext"
    }
   },
   "outputs": [],
   "source": [
    "from langgraph.graph import StateGraph, START, END\n",
    "from langchain_core.prompts import PromptTemplate\n",
    "\n",
    "from IPython.display import Image, display\n",
    "\n",
    "from ddgs import DDGS\n",
    "\n",
    "from gigachat import GigaChat  # С большой C!\n",
    "from gigachat.models import Chat, Messages, MessagesRole\n",
    "\n",
    "import requests\n",
    "import trafilatura\n",
    "\n",
    "import os\n",
    "\n",
    "from dotenv import load_dotenv\n",
    "\n",
    "from typing import List, Dict, Tuple, Literal, Annotated, Any, Optional\n",
    "from typing_extensions import TypedDict\n",
    "\n",
    "from operator import add"
   ]
  },
  {
   "cell_type": "code",
   "execution_count": null,
   "id": "e5884cd6",
   "metadata": {
    "vscode": {
     "languageId": "plaintext"
    }
   },
   "outputs": [],
   "source": [
    "load_dotenv('1.env') #Подключение файла с секретами"
   ]
  },
  {
   "cell_type": "code",
   "execution_count": null,
   "id": "0dde7663",
   "metadata": {
    "vscode": {
     "languageId": "plaintext"
    }
   },
   "outputs": [],
   "source": [
    "#Получение токена:\n",
    "gigachat_token = os.environ['GIGACHAT_API_KEY'] #Получение API-ключа из переменных окружения\n",
    "gigachat_scope = os.environ['GIGACHAT_SCOPE'] #Получение подвтерждение что мы физ.лица"
   ]
  },
  {
   "cell_type": "code",
   "execution_count": null,
   "id": "fbb71a14",
   "metadata": {
    "vscode": {
     "languageId": "plaintext"
    }
   },
   "outputs": [],
   "source": [
    "#Создание клиента:\n",
    "llm = GigaChat(\n",
    "    credentials=gigachat_token, #Извлекает API-ключ из переменной окружения  \n",
    "    verify_ssl_certs=FALSE,#отключает проверку SSL-сертификатов\n",
    "    scope=gigachat_scope #Извлекает область доступа(физ) из переменной окружения\n",
    ")"
   ]
  },
  {
   "cell_type": "code",
   "execution_count": null,
   "id": "e5bb1396",
   "metadata": {
    "vscode": {
     "languageId": "plaintext"
    }
   },
   "outputs": [],
   "source": [
    "# Получение списка доступных моделей\n",
    "\n",
    "dict(llm.get_models())"
   ]
  }
 ],
 "metadata": {
  "language_info": {
   "name": "python"
  }
 },
 "nbformat": 4,
 "nbformat_minor": 5
}
